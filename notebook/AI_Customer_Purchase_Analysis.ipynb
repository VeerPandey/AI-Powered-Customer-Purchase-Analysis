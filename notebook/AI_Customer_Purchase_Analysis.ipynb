{
  "nbformat": 4,
  "nbformat_minor": 0,
  "metadata": {
    "colab": {
      "provenance": []
    },
    "kernelspec": {
      "name": "python3",
      "display_name": "Python 3"
    },
    "language_info": {
      "name": "python"
    }
  },
  "cells": [
    {
      "cell_type": "code",
      "source": [
        "#!pip install scikit-surprise"
      ],
      "metadata": {
        "id": "Ga7Vm2b17ZQW"
      },
      "execution_count": 11,
      "outputs": []
    },
    {
      "cell_type": "code",
      "source": [
        "import pandas as pd\n",
        "import numpy as np\n",
        "import matplotlib.pyplot as plt\n",
        "import random\n",
        "import tensorflow as tf\n",
        "from google.colab import drive\n",
        "from datetime import datetime, timedelta\n",
        "from sklearn.cluster import KMeans\n",
        "from sklearn.preprocessing import StandardScaler\n",
        "from surprise import SVD\n",
        "from surprise import Dataset\n",
        "from surprise import Reader\n",
        "from surprise.model_selection import train_test_split\n",
        "from surprise import accuracy\n"
      ],
      "metadata": {
        "id": "Ktk1RnCBV2Gx"
      },
      "execution_count": 12,
      "outputs": []
    },
    {
      "cell_type": "markdown",
      "source": [
        "\n",
        "## 1. Data Analysis:\n",
        "####     Load the provided dataset (CSV file) containing customer purchase history. The dataset includes:\n",
        "        * Customer ID\n",
        "        * Product ID\n",
        "        * Product Category\n",
        "        * Purchase Amount\n",
        "        * Purchase Date"
      ],
      "metadata": {
        "id": "VJ_mYe6IFLAO"
      }
    },
    {
      "cell_type": "code",
      "execution_count": 13,
      "metadata": {
        "colab": {
          "base_uri": "https://localhost:8080/"
        },
        "id": "zgfTz4_VTRX3",
        "outputId": "b7080340-8598-4b6d-8617-0557d4a010d8"
      },
      "outputs": [
        {
          "output_type": "stream",
          "name": "stdout",
          "text": [
            "Drive already mounted at /content/drive; to attempt to forcibly remount, call drive.mount(\"/content/drive\", force_remount=True).\n",
            "Dataset loaded successfully from Google Drive.\n"
          ]
        }
      ],
      "source": [
        "# Step 1: Here, I mounted the Google Drive\n",
        "drive.mount('/content/drive')\n",
        "\n",
        "# Step 2: then defined the file path in Google Drive where I stored the file\n",
        "file_path = '/content/drive/My Drive/Dataset_AI_BookedBy/synthetic_purchase_data.csv'\n",
        "\n",
        "try:\n",
        "    # Step 3: here I tried to load the existing dataset from Google Drive, if it is saved when someone else is running\n",
        "    df = pd.read_csv(file_path)\n",
        "    print(\"Dataset loaded successfully from Google Drive.\")\n",
        "\n",
        "except FileNotFoundError:\n",
        "    # and if the file doesn't exist, I will generate the dataset instead of throwing an error\n",
        "    print(\"Dataset not found. Generating a new dataset...\")\n",
        "\n",
        "    # setting random seed for reproducibility and consistenncy\n",
        "    np.random.seed(42)\n",
        "    random.seed(42)\n",
        "\n",
        "    # the required parameters as was given in the question, I multiplied those numbers by 10 times to have a slightly bigger dataset than was expected\n",
        "    num_customers = 5000\n",
        "    num_products = 500\n",
        "    num_records = 50000\n",
        "\n",
        "    # generatedd unique customer IDs of the format something like C0001, C0002 etc\n",
        "    customer_ids = [f'C{str(i).zfill(4)}' for i in range(1, num_customers + 1)]\n",
        "\n",
        "    # then generated product IDs and categories and mapped product IDs to randome categories by using a dictionary\n",
        "    product_ids = [f'P{str(i).zfill(3)}' for i in range(1, num_products + 1)]\n",
        "    product_categories = [f'Category_{i}' for i in range(1, 11)]  # 10 categories\n",
        "    product_id_to_category = {pid: random.choice(product_categories) for pid in product_ids}\n",
        "\n",
        "    # generated purchase records, the flow is like this:\n",
        "    # randomly generate customer and product IDs, then product_id is assigned to its category by retrieveing it from the dictionary 'product_id_to_category'\n",
        "    # then, a random floating number is generated to between $5 and $500 to represent the purchase amount, then random number of days are generated betn jan 1 2023 - dec 31 2023\n",
        "    # lastly, the generated record's are appended to the list records = []\n",
        "    records = []\n",
        "    start_date = datetime(2023, 1, 1)\n",
        "    end_date = datetime(2023, 12, 31)\n",
        "\n",
        "    for _ in range(num_records):\n",
        "        customer_id = random.choice(customer_ids)\n",
        "        product_id = random.choice(product_ids)\n",
        "        product_category = product_id_to_category[product_id]\n",
        "        purchase_amount = round(np.random.uniform(5, 500), 2)  # Purchase amount between $5 and $500\n",
        "        purchase_date = start_date + timedelta(days=random.randint(0, (end_date - start_date).days))\n",
        "        records.append([customer_id, product_id, product_category, purchase_amount, purchase_date])\n",
        "\n",
        "    # creating DataFrame for good visual effect\n",
        "    df = pd.DataFrame(records, columns=['Customer ID', 'Product ID', 'Product Category', 'Purchase Amount', 'Purchase Date'])\n",
        "\n",
        "    # saved the new dataset to Google Drive, if the dataset was not already present\n",
        "    df.to_csv(file_path, index=False)\n",
        "    print(f\"New dataset generated and saved to {file_path}\")"
      ]
    },
    {
      "cell_type": "code",
      "source": [
        "from google.colab import drive\n",
        "drive.mount('/content/drive')"
      ],
      "metadata": {
        "id": "6oMN5Uz3KhV7",
        "colab": {
          "base_uri": "https://localhost:8080/"
        },
        "outputId": "24aa33fb-9d0a-41b8-cdbd-058454db30e2"
      },
      "execution_count": 14,
      "outputs": [
        {
          "output_type": "stream",
          "name": "stdout",
          "text": [
            "Drive already mounted at /content/drive; to attempt to forcibly remount, call drive.mount(\"/content/drive\", force_remount=True).\n"
          ]
        }
      ]
    },
    {
      "cell_type": "code",
      "source": [
        "# loaded the dataset\n",
        "df = pd.read_csv('/content/drive/My Drive/Dataset_AI_BookedBy/synthetic_purchase_data.csv')\n",
        "\n",
        "# Analysis: identified top-selling products based on total purchase amount\n",
        "top_selling_products = df.groupby('Product ID')['Purchase Amount'].sum().sort_values(ascending=False).head(10)\n",
        "\n",
        "# Analysis: identified top-selling categories based on sales\n",
        "top_selling_categories = df.groupby('Product Category')['Purchase Amount'].sum().sort_values(ascending=False).head(10)\n",
        "\n",
        "# Analysis: calc. average spending per customer\n",
        "average_spending_per_customer = df.groupby('Customer ID')['Purchase Amount'].mean().sort_values(ascending=False)\n",
        "\n",
        "# displayed Results\n",
        "print(\"Top-Selling Products:\")\n",
        "print(top_selling_products)\n",
        "\n",
        "print(\"\\nTop-Selling Categories:\")\n",
        "print(top_selling_categories)\n",
        "\n",
        "print(\"\\nAverage Spending Per Customer:\")\n",
        "print(average_spending_per_customer.head(10))  # the top 10 customers with the highest average spending"
      ],
      "metadata": {
        "colab": {
          "base_uri": "https://localhost:8080/"
        },
        "id": "ZQZ39ZVvTv-A",
        "outputId": "eec0e6aa-6f67-4804-acd7-32e5a10ebae0"
      },
      "execution_count": 22,
      "outputs": [
        {
          "output_type": "stream",
          "name": "stdout",
          "text": [
            "Top-Selling Products:\n",
            "Product ID\n",
            "P058    33092.70\n",
            "P012    32814.99\n",
            "P263    32048.34\n",
            "P246    31987.99\n",
            "P444    31680.16\n",
            "P341    31626.34\n",
            "P285    31513.55\n",
            "P061    31312.79\n",
            "P048    30941.16\n",
            "P041    30783.59\n",
            "Name: Purchase Amount, dtype: float64\n",
            "\n",
            "Top-Selling Categories:\n",
            "Product Category\n",
            "Category_4     1555215.38\n",
            "Category_2     1495860.32\n",
            "Category_9     1436300.38\n",
            "Category_5     1320280.76\n",
            "Category_7     1297327.27\n",
            "Category_1     1170917.17\n",
            "Category_6     1170512.13\n",
            "Category_3     1108193.22\n",
            "Category_10    1097299.31\n",
            "Category_8      944963.23\n",
            "Name: Purchase Amount, dtype: float64\n",
            "\n",
            "Average Spending Per Customer:\n",
            "Customer ID\n",
            "C4360    459.045000\n",
            "C0914    453.833333\n",
            "C3790    452.835000\n",
            "C1403    424.725000\n",
            "C3991    419.628333\n",
            "C3576    418.380000\n",
            "C2457    412.330000\n",
            "C1948    411.065000\n",
            "C4603    410.104000\n",
            "C3878    410.014286\n",
            "Name: Purchase Amount, dtype: float64\n"
          ]
        }
      ]
    },
    {
      "cell_type": "markdown",
      "source": [
        "### 2. Customer Classification:\n",
        "    * Use clustering (e.g., k-means) to group customers into segments based on their purchase behavior (e.g., frequency, total spending, product preferences).\n",
        "    * Label the clusters with intuitive names (e.g., \"High Spenders,\" \"Occasional Buyers\")."
      ],
      "metadata": {
        "id": "CVbETwivUzxG"
      }
    },
    {
      "cell_type": "code",
      "source": [
        "# Step 1: firstly the data needs to be prepared\n",
        "# converting 'Purchase Date' to datetime for easier calculations\n",
        "df['Purchase Date'] = pd.to_datetime(df['Purchase Date'])\n",
        "\n",
        "# defining a reference date for recency calculation (e.g., the most recent purchase date in the dataset)\n",
        "reference_date = df['Purchase Date'].max()\n",
        "\n",
        "# aggregating features for each customer\n",
        "customer_data = df.groupby('Customer ID').agg(\n",
        "    total_spending=('Purchase Amount', 'sum'),\n",
        "    frequency=('Purchase Amount', 'count'),\n",
        "    recency=('Purchase Date', lambda x: (reference_date - x.max()).days)  # days since the last purchase\n",
        ").reset_index()\n",
        "\n",
        "# Step 2: scaling the data to have 0 mean and unit variance, ensuring all features contribute equaly to the clustering algo.\n",
        "scaler = StandardScaler()\n",
        "scaled_data = scaler.fit_transform(customer_data[['total_spending', 'frequency', 'recency']])\n",
        "\n",
        "# Step 3: determining the optimal number of clusters using the elbow method\n",
        "inertia = []\n",
        "k_values = range(1, 10)\n",
        "for k in k_values:\n",
        "    kmeans = KMeans(n_clusters=k, random_state=42)\n",
        "    kmeans.fit(scaled_data)\n",
        "    inertia.append(kmeans.inertia_)\n",
        "\n",
        "# plottng the elbow curve\n",
        "plt.figure(figsize=(8, 5))\n",
        "plt.plot(k_values, inertia, marker='o')\n",
        "plt.xlabel('Number of Clusters (k)')\n",
        "plt.ylabel('Inertia')\n",
        "plt.title('Elbow Method to Determine Optimal k')\n",
        "plt.show()\n",
        "\n",
        "# Step 4: applying k-means clustering (choosing k=3 as an example)\n",
        "kmeans = KMeans(n_clusters=3, random_state=42)\n",
        "customer_data['cluster'] = kmeans.fit_predict(scaled_data)\n",
        "\n",
        "# Step 5: labeling the clusters with intuitive names\n",
        "# analyze the clusters' statistics to assign names\n",
        "cluster_centers = scaler.inverse_transform(kmeans.cluster_centers_)\n",
        "for i, center in enumerate(cluster_centers):\n",
        "    print(f\"Cluster {i}: Total Spending={center[0]:.2f}, Frequency={center[1]:.2f}, Recency={center[2]:.2f}\")\n",
        "\n",
        "# assign names based on insights (example labels, modify based on analysis)\n",
        "cluster_labels = {\n",
        "    0: 'Frequent Recent Buyers',\n",
        "    1: 'High Spenders',\n",
        "    2: 'Dormant Buyers'\n",
        "}\n",
        "customer_data['cluster_label'] = customer_data['cluster'].map(cluster_labels)\n",
        "\n",
        "# display the clustered data\n",
        "print(customer_data[['Customer ID', 'total_spending', 'frequency', 'recency', 'cluster_label']].head(20))"
      ],
      "metadata": {
        "colab": {
          "base_uri": "https://localhost:8080/",
          "height": 916
        },
        "id": "pw2aAshbZQso",
        "outputId": "17b158f8-854f-4226-ebaa-5ff474efdfe9"
      },
      "execution_count": 17,
      "outputs": [
        {
          "output_type": "display_data",
          "data": {
            "text/plain": [
              "<Figure size 800x500 with 1 Axes>"
            ],
            "image/png": "[encoded data removed]"
          },
          "metadata": {}
        },
        {
          "output_type": "stream",
          "name": "stdout",
          "text": [
            "Cluster 0: Total Spending=2057.65, Frequency=8.49, Recency=25.14\n",
            "Cluster 1: Total Spending=3458.16, Frequency=13.23, Recency=23.02\n",
            "Cluster 2: Total Spending=1720.45, Frequency=6.94, Recency=109.10\n",
            "   Customer ID  total_spending  frequency  recency           cluster_label\n",
            "0        C0001         3429.72         11       52           High Spenders\n",
            "1        C0002         2046.70          9        6  Frequent Recent Buyers\n",
            "2        C0003         1488.99          9        9  Frequent Recent Buyers\n",
            "3        C0004         2633.69          9       16  Frequent Recent Buyers\n",
            "4        C0005         2222.82         10        3  Frequent Recent Buyers\n",
            "5        C0006         3210.32         12       26           High Spenders\n",
            "6        C0007         2088.67          8       16  Frequent Recent Buyers\n",
            "7        C0008         2118.07          7       37  Frequent Recent Buyers\n",
            "8        C0009         2171.84          7       23  Frequent Recent Buyers\n",
            "9        C0010         2681.95         11       20  Frequent Recent Buyers\n",
            "10       C0011         3075.24         13       53           High Spenders\n",
            "11       C0012         1807.02          8       28  Frequent Recent Buyers\n",
            "12       C0013         3205.37         13       13           High Spenders\n",
            "13       C0014          836.34          3       96          Dormant Buyers\n",
            "14       C0015         1097.95          4        5  Frequent Recent Buyers\n",
            "15       C0016         4168.02         17       29           High Spenders\n",
            "16       C0017         3145.29         11       69           High Spenders\n",
            "17       C0018         1800.58          7       25  Frequent Recent Buyers\n",
            "18       C0019         1444.28          7       43  Frequent Recent Buyers\n",
            "19       C0020         1383.28          4        9  Frequent Recent Buyers\n"
          ]
        }
      ]
    },
    {
      "cell_type": "markdown",
      "source": [
        "### 3. Product Recommendation:\n",
        "    * Use a simple AI-based recommendation system (e.g., collaborative filtering, content-based filtering, or a neural network model) to recommend products to a customer based on their past purchases."
      ],
      "metadata": {
        "id": "h6jjUXFjU3rn"
      }
    },
    {
      "cell_type": "code",
      "source": [
        "# Step 1: prep. the data\n",
        "# created a dataframe with customer ID, product ID, and purchase amount\n",
        "# did it because the collaborative filtering algo required dataset with unique identifier, item identifier, rating inputs for recommendation purpose\n",
        "purchase_data = df[['Customer ID', 'Product ID', 'Purchase Amount']]\n",
        "\n",
        "# defined a reader for Surprise (specify rating scale if necessary)\n",
        "# did this becuase surprise needs to know the range of possible interaction values to handle the data properly\n",
        "reader = Reader(rating_scale=(purchase_data['Purchase Amount'].min(), purchase_data['Purchase Amount'].max()))\n",
        "\n",
        "# loadeed the dataset into Surprise\n",
        "# surprise requires dataset of the form (user_id, item_id, rating)\n",
        "data = Dataset.load_from_df(purchase_data, reader)\n",
        "\n",
        "# Step 2: train-test Split\n",
        "# 80% data used to train the model, remaining 20% used to evaluate model performance\n",
        "trainset, testset = train_test_split(data, test_size=0.2, random_state=42)\n",
        "\n",
        "# Step 3: Train the Collaborative Filtering Model\n",
        "model = SVD()  # Singular Value Decomposition (SVD)\n",
        "model.fit(trainset)\n",
        "\n",
        "# Step 4: evaluating the Model\n",
        "predictions = model.test(testset)\n",
        "# calculates the Root Mean Squared Error (RMSE), which measures how far the predicted purchase amounts are from the actual amounts.\n",
        "rmse = accuracy.rmse(predictions)\n",
        "print(f\"RMSE: {rmse}\")\n",
        "\n",
        "# Step 5: helper function to recommend top 'n' (5 in my case) products for a specific customer\n",
        "def recommend_products(customer_id, n_recommendations=5):\n",
        "    \"\"\"Recommend top N products for a given customer.\"\"\"\n",
        "    # get all products by retrieving all unique product ids from the dataset\n",
        "    all_product_ids = df['Product ID'].unique()\n",
        "\n",
        "    # retrieve list of products the customer has already purchased\n",
        "    purchased_products = purchase_data[purchase_data['Customer ID'] == customer_id]['Product ID'].unique()\n",
        "\n",
        "    # filtered out purchased products, ensuring that the model only recommends new products\n",
        "    products_to_predict = [product for product in all_product_ids if product not in purchased_products]\n",
        "\n",
        "    # for each unpurchased product, predicting the rating (purchase amount) the customer might give\n",
        "    predictions = [model.predict(customer_id, product_id) for product_id in products_to_predict]\n",
        "\n",
        "    # sorting the predicted ratings in descending order of the estimated purchase amount\n",
        "    predictions.sort(key=lambda x: x.est, reverse=True)\n",
        "\n",
        "    # extracting the product IDs of the top n_recommendations predicted products and returning them\n",
        "    recommended_products = [pred.iid for pred in predictions[:n_recommendations]]\n",
        "    return recommended_products\n",
        "\n",
        "# Example: recommend products for a specific customer, we can take any user\n",
        "customer_id = 'C0001'\n",
        "recommended_products = recommend_products(customer_id, n_recommendations=5)\n",
        "print(f\"Recommended products for customer {customer_id}: {recommended_products}\")"
      ],
      "metadata": {
        "id": "A_QJce8ajP7h",
        "colab": {
          "base_uri": "https://localhost:8080/"
        },
        "outputId": "e4e689b4-e2a9-4373-847e-09006be9e196"
      },
      "execution_count": 18,
      "outputs": [
        {
          "output_type": "stream",
          "name": "stdout",
          "text": [
            "RMSE: 286.5343\n",
            "RMSE: 286.5342911382161\n",
            "Recommended products for customer C0001: ['P338', 'P264', 'P048', 'P116', 'P013']\n"
          ]
        }
      ]
    },
    {
      "cell_type": "markdown",
      "source": [
        "### 4. Integration with AI:\n",
        "    * Use an AI library or tool (e.g., Python's Scikit-learn, TensorFlow, or Hugging Face Transformers) for clustering and/or recommendation."
      ],
      "metadata": {
        "id": "Wqn2uPaCU8fv"
      }
    },
    {
      "cell_type": "code",
      "source": [
        "# Load the dataset\n",
        "df = pd.read_csv('/content/drive/My Drive/Dataset_AI_BookedBy/synthetic_purchase_data.csv')\n",
        "\n",
        "# Step 1: prepped the data for clustering\n",
        "customer_data = df.groupby('Customer ID').agg(\n",
        "    total_spending=('Purchase Amount', 'sum'),\n",
        "    frequency=('Purchase Amount', 'count'),\n",
        "    recency=('Purchase Date', lambda x: (pd.to_datetime(df['Purchase Date']).max() - pd.to_datetime(x).max()).days)\n",
        ").reset_index()\n",
        "\n",
        "# scaled the data\n",
        "scaler = StandardScaler()\n",
        "scaled_data = scaler.fit_transform(customer_data[['total_spending', 'frequency', 'recency']])\n",
        "\n",
        "# Step 2: applied KMeans clustering\n",
        "kmeans = KMeans(n_clusters=3, random_state=42)\n",
        "customer_data['cluster'] = kmeans.fit_predict(scaled_data)\n",
        "\n",
        "# analyzed the cluster centers\n",
        "cluster_centers = scaler.inverse_transform(kmeans.cluster_centers_)\n",
        "for i, center in enumerate(cluster_centers):\n",
        "    print(f\"Cluster {i}: Total Spending={center[0]:.2f}, Frequency={center[1]:.2f}, Recency={center[2]:.2f}\")\n",
        "\n",
        "# labelled clusters\n",
        "cluster_labels = {\n",
        "    0: 'Frequent Recent Buyers',\n",
        "    1: 'High Spenders',\n",
        "    2: 'Dormant Buyers'\n",
        "}\n",
        "customer_data['cluster_label'] = customer_data['cluster'].map(cluster_labels)\n",
        "\n",
        "# showed sample data\n",
        "print(customer_data[['Customer ID', 'total_spending', 'frequency', 'recency', 'cluster_label']].head(20))"
      ],
      "metadata": {
        "colab": {
          "base_uri": "https://localhost:8080/"
        },
        "id": "_EW1zElpi9kR",
        "outputId": "6cedfbd0-334d-4897-f264-7836f1d6fe3e"
      },
      "execution_count": 20,
      "outputs": [
        {
          "output_type": "stream",
          "name": "stdout",
          "text": [
            "Cluster 0: Total Spending=2057.65, Frequency=8.49, Recency=25.14\n",
            "Cluster 1: Total Spending=3458.16, Frequency=13.23, Recency=23.02\n",
            "Cluster 2: Total Spending=1720.45, Frequency=6.94, Recency=109.10\n",
            "   Customer ID  total_spending  frequency  recency           cluster_label\n",
            "0        C0001         3429.72         11       52           High Spenders\n",
            "1        C0002         2046.70          9        6  Frequent Recent Buyers\n",
            "2        C0003         1488.99          9        9  Frequent Recent Buyers\n",
            "3        C0004         2633.69          9       16  Frequent Recent Buyers\n",
            "4        C0005         2222.82         10        3  Frequent Recent Buyers\n",
            "5        C0006         3210.32         12       26           High Spenders\n",
            "6        C0007         2088.67          8       16  Frequent Recent Buyers\n",
            "7        C0008         2118.07          7       37  Frequent Recent Buyers\n",
            "8        C0009         2171.84          7       23  Frequent Recent Buyers\n",
            "9        C0010         2681.95         11       20  Frequent Recent Buyers\n",
            "10       C0011         3075.24         13       53           High Spenders\n",
            "11       C0012         1807.02          8       28  Frequent Recent Buyers\n",
            "12       C0013         3205.37         13       13           High Spenders\n",
            "13       C0014          836.34          3       96          Dormant Buyers\n",
            "14       C0015         1097.95          4        5  Frequent Recent Buyers\n",
            "15       C0016         4168.02         17       29           High Spenders\n",
            "16       C0017         3145.29         11       69           High Spenders\n",
            "17       C0018         1800.58          7       25  Frequent Recent Buyers\n",
            "18       C0019         1444.28          7       43  Frequent Recent Buyers\n",
            "19       C0020         1383.28          4        9  Frequent Recent Buyers\n"
          ]
        }
      ]
    },
    {
      "cell_type": "code",
      "source": [
        "df = pd.read_csv('/content/drive/My Drive/Dataset_AI_BookedBy/synthetic_purchase_data.csv')\n",
        "\n",
        "# Step 1: prep data for recommendation system\n",
        "# mapped customer IDs and product IDs to integers\n",
        "# had to do this because TensorFlow models work with numerical data\n",
        "customer_ids = df['Customer ID'].unique()\n",
        "product_ids = df['Product ID'].unique()\n",
        "\n",
        "customer_map = {cid: idx for idx, cid in enumerate(customer_ids)}\n",
        "product_map = {pid: idx for idx, pid in enumerate(product_ids)}\n",
        "\n",
        "df['customer_idx'] = df['Customer ID'].map(customer_map)\n",
        "df['product_idx'] = df['Product ID'].map(product_map)\n",
        "\n",
        "# Step 2: creating a TensorFlow dataset\n",
        "dataset = tf.data.Dataset.from_tensor_slices((\n",
        "    {'customer': df['customer_idx'].values, 'product': df['product_idx'].values},\n",
        "    df['Purchase Amount'].values\n",
        "))\n",
        "\n",
        "# shuffling the dataset to randomize the order of samples, preventing the model from learning spurious patterns in sequential data\n",
        "# had to do this to ensure training is unbiased\n",
        "dataset = dataset.shuffle(buffer_size=10000).batch(64)\n",
        "\n",
        "# Step 3: helper function to build the recommendation model\n",
        "# what it does is maps customers and products to dense vector representations by using concept of embedding vectors and then\n",
        "# computes similarity between the customer vector and the product vector, high dot product indicates strong affinity between customer and product\n",
        "class RecommendationModel(tf.keras.Model):\n",
        "    def __init__(self, num_customers, num_products, embedding_dim=16):\n",
        "        super().__init__()\n",
        "        self.customer_embedding = tf.keras.layers.Embedding(num_customers, embedding_dim)\n",
        "        self.product_embedding = tf.keras.layers.Embedding(num_products, embedding_dim)\n",
        "        self.dot_product = tf.keras.layers.Dot(axes=1)\n",
        "\n",
        "    def call(self, inputs):\n",
        "        customer_vector = self.customer_embedding(inputs['customer'])\n",
        "        product_vector = self.product_embedding(inputs['product'])\n",
        "        return self.dot_product([customer_vector, product_vector])\n",
        "\n",
        "# initialized the model heree\n",
        "num_customers = len(customer_ids)\n",
        "num_products = len(product_ids)\n",
        "\n",
        "model = RecommendationModel(num_customers, num_products)\n",
        "\n",
        "# Step 4: compiling the model\n",
        "model.compile(optimizer='adam', loss='mse', metrics=['mae'])\n",
        "\n",
        "# Step 5: then training the model\n",
        "model.fit(dataset, epochs=5)\n",
        "\n",
        "# Step 6: generating recommendations for a customer\n",
        "# the helper function here retrieves customer index, then predict ratings for all unpurchased products, sort them in descending order and select top 'n' reccommendations\n",
        "def recommend_products(customer_id, num_recommendations=5):\n",
        "    customer_idx = customer_map[customer_id]\n",
        "    all_products = np.arange(num_products)\n",
        "\n",
        "    predictions = model.predict({'customer': np.array([customer_idx] * num_products), 'product': all_products})\n",
        "    top_product_indices = np.argsort(predictions[:, 0])[-num_recommendations:][::-1]\n",
        "    recommended_products = [list(product_map.keys())[idx] for idx in top_product_indices]\n",
        "    return recommended_products\n",
        "\n",
        "# Example: recommend products for a specific customer\n",
        "customer_id = 'C0102'\n",
        "recommendations = recommend_products(customer_id)\n",
        "print(f\"Recommended products for customer {customer_id}: {recommendations}\")"
      ],
      "metadata": {
        "colab": {
          "base_uri": "https://localhost:8080/"
        },
        "id": "Nqk1TO6Ukv5r",
        "outputId": "0dfac0bb-4de4-487c-c59d-a49a506a2cb6"
      },
      "execution_count": 21,
      "outputs": [
        {
          "output_type": "stream",
          "name": "stdout",
          "text": [
            "Epoch 1/5\n",
            "\u001b[1m782/782\u001b[0m \u001b[32m━━━━━━━━━━━━━━━━━━━━\u001b[0m\u001b[37m\u001b[0m \u001b[1m3s\u001b[0m 3ms/step - loss: 83617.6250 - mae: 251.5013\n",
            "Epoch 2/5\n",
            "\u001b[1m782/782\u001b[0m \u001b[32m━━━━━━━━━━━━━━━━━━━━\u001b[0m\u001b[37m\u001b[0m \u001b[1m3s\u001b[0m 4ms/step - loss: 83560.9453 - mae: 251.4031\n",
            "Epoch 3/5\n",
            "\u001b[1m782/782\u001b[0m \u001b[32m━━━━━━━━━━━━━━━━━━━━\u001b[0m\u001b[37m\u001b[0m \u001b[1m4s\u001b[0m 2ms/step - loss: 83464.0000 - mae: 251.1542\n",
            "Epoch 4/5\n",
            "\u001b[1m782/782\u001b[0m \u001b[32m━━━━━━━━━━━━━━━━━━━━\u001b[0m\u001b[37m\u001b[0m \u001b[1m2s\u001b[0m 2ms/step - loss: 82272.4141 - mae: 248.8782\n",
            "Epoch 5/5\n",
            "\u001b[1m782/782\u001b[0m \u001b[32m━━━━━━━━━━━━━━━━━━━━\u001b[0m\u001b[37m\u001b[0m \u001b[1m5s\u001b[0m 5ms/step - loss: 80978.3203 - mae: 246.0981\n",
            "\u001b[1m16/16\u001b[0m \u001b[32m━━━━━━━━━━━━━━━━━━━━\u001b[0m\u001b[37m\u001b[0m \u001b[1m0s\u001b[0m 10ms/step\n",
            "Recommended products for customer C0102: ['P053', 'P488', 'P058', 'P263', 'P145']\n"
          ]
        }
      ]
    },
    {
      "cell_type": "markdown",
      "source": [
        "## References"
      ],
      "metadata": {
        "id": "3JjFOHBVO4j_"
      }
    },
    {
      "cell_type": "markdown",
      "source": [
        "##### When I started looking for datasets on platforms like Kaggle and other online resources, I realized that most of them required significant preprocessing, such as cleaning missing values, handling inconsistent formats, and restructuring the data to fit the project’s needs. Many datasets also included irrelevant features or lacked key details like clear customer-product relationships, which would have required extra time and effort to address. Since I was short on time, I decided to generate a synthetic dataset instead.\n",
        "##### For generating synthetic data, I used:\n",
        "##### https://www.datacamp.com/tutorial/synthetic-data-generation?utm_source=chatgpt.com\n",
        "\n",
        "##### For Surprise library, which was helpful in building a collaborative filtering recommendation system using SVD (Singular Value Decomposition), I followed: https://surpriselib.com/ and a bit of assistance from LLM\n",
        "\n",
        "##### Some blogs to get through the concepts of recommendation system: https://www.kaggle.com/discussions/general/231001, https://pub.towardsai.net/step-by-step-approach-to-building-a-recommendation-system-a65be5a54045\n",
        "\n",
        "##### Customer segmentation guide(the popular \"RFM\" guide): https://neptune.ai/blog/customer-segmentation-using-machine-learning, https://www.analyticsvidhya.com/blog/2021/07/customer-segmentation-using-rfm-analysis/, https://medium.com/@yennhi95zz/using-rfm-analysis-for-effective-customer-segmentation-in-marketing-4964a99bf606"
      ],
      "metadata": {
        "id": "BIJelJA_O8h5"
      }
    },
    {
      "cell_type": "markdown",
      "source": [
        "##### When I noticed that my metrics like RMSE, loss during epochs, and MSEs were unusually high, I sought clarification from an LLM. Here’s the explanation I received:\n",
        "#####\n",
        "1.\tScale of the Target Variable:\n",
        "If the target variable has a large range, the errors will also appear large because metrics like RMSE or MSE depend on the magnitude of the difference between predicted and actual values.\n",
        "\n",
        "So yes, this point was relevant in my project because the target variable, which was the Purchase Amount, had a large range (values between 5 and 500). Due to this, even small prediction errors appeared large when compared to the actual values.\n",
        "\n",
        "2.\tSkewed or Imbalanced Data:\n",
        "When the data is not uniformly distributed, with many values clustered around one range and a few extreme outliers, it becomes difficult for the model to perform well across all data points. Those outliers can heavily influence metrics like RMSE and cause them to spike.\n",
        "\n",
        "This issue was also noticeable in the dataset. The purchase data was not uniformly distributed—most purchase amounts were in the lower range (e.g., 10 to 50), but there were some outliers where purchases were closer to 400 or 500. These high-value purchases disproportionately affected the metrics because the model struggled to predict outliers accurately.\n",
        "3.\tModel Complexity or Underfitting:\n",
        "If the model is too simple, it might not have enough capacity to learn patterns in the data, leading to higher errors. Conversely, if the model is complex but hasn’t trained for enough time, it might also fail to capture meaningful insights, resulting in poor performance metrics.\n",
        "\n",
        "This seemed partly true for the project as well. In the collaborative filtering model (using Surprise), the simple SVD approach struggled to capture complex relationships in the data. While TensorFlow’s embedding-based model was more powerful, it still underperformed initially because it needed more epochs or better tuning to learn the patterns effectively"
      ],
      "metadata": {
        "id": "60sCu0HTTRDj"
      }
    },
    {
      "cell_type": "code",
      "source": [],
      "metadata": {
        "id": "cX1Z01PoUdvV"
      },
      "execution_count": null,
      "outputs": []
    }
  ]
}